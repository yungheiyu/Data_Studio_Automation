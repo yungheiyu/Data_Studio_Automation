{
 "cells": [
  {
   "cell_type": "code",
   "execution_count": 1,
   "id": "d1155a58",
   "metadata": {},
   "outputs": [
    {
     "name": "stdout",
     "output_type": "stream",
     "text": [
      "Requirement already satisfied: selenium in c:\\users\\yhy\\anaconda3\\lib\\site-packages (4.1.0)\n",
      "Requirement already satisfied: trio~=0.17 in c:\\users\\yhy\\anaconda3\\lib\\site-packages (from selenium) (0.19.0)\n",
      "Requirement already satisfied: urllib3[secure]~=1.26 in c:\\users\\yhy\\anaconda3\\lib\\site-packages (from selenium) (1.26.7)\n",
      "Requirement already satisfied: trio-websocket~=0.9 in c:\\users\\yhy\\anaconda3\\lib\\site-packages (from selenium) (0.9.2)\n",
      "Requirement already satisfied: sortedcontainers in c:\\users\\yhy\\anaconda3\\lib\\site-packages (from trio~=0.17->selenium) (2.4.0)\n",
      "Requirement already satisfied: async-generator>=1.9 in c:\\users\\yhy\\anaconda3\\lib\\site-packages (from trio~=0.17->selenium) (1.10)\n",
      "Requirement already satisfied: sniffio in c:\\users\\yhy\\anaconda3\\lib\\site-packages (from trio~=0.17->selenium) (1.2.0)Note: you may need to restart the kernel to use updated packages.\n",
      "\n",
      "Requirement already satisfied: idna in c:\\users\\yhy\\anaconda3\\lib\\site-packages (from trio~=0.17->selenium) (3.2)\n",
      "Requirement already satisfied: cffi>=1.14 in c:\\users\\yhy\\anaconda3\\lib\\site-packages (from trio~=0.17->selenium) (1.14.6)\n",
      "Requirement already satisfied: outcome in c:\\users\\yhy\\anaconda3\\lib\\site-packages (from trio~=0.17->selenium) (1.1.0)\n",
      "Requirement already satisfied: attrs>=19.2.0 in c:\\users\\yhy\\anaconda3\\lib\\site-packages (from trio~=0.17->selenium) (21.2.0)\n",
      "Requirement already satisfied: pycparser in c:\\users\\yhy\\anaconda3\\lib\\site-packages (from cffi>=1.14->trio~=0.17->selenium) (2.20)\n",
      "Requirement already satisfied: wsproto>=0.14 in c:\\users\\yhy\\anaconda3\\lib\\site-packages (from trio-websocket~=0.9->selenium) (1.0.0)\n",
      "Requirement already satisfied: pyOpenSSL>=0.14 in c:\\users\\yhy\\anaconda3\\lib\\site-packages (from urllib3[secure]~=1.26->selenium) (21.0.0)\n",
      "Requirement already satisfied: cryptography>=1.3.4 in c:\\users\\yhy\\anaconda3\\lib\\site-packages (from urllib3[secure]~=1.26->selenium) (3.4.8)\n",
      "Requirement already satisfied: certifi in c:\\users\\yhy\\anaconda3\\lib\\site-packages (from urllib3[secure]~=1.26->selenium) (2021.10.8)\n",
      "Requirement already satisfied: six>=1.5.2 in c:\\users\\yhy\\anaconda3\\lib\\site-packages (from pyOpenSSL>=0.14->urllib3[secure]~=1.26->selenium) (1.16.0)\n",
      "Requirement already satisfied: h11<1,>=0.9.0 in c:\\users\\yhy\\anaconda3\\lib\\site-packages (from wsproto>=0.14->trio-websocket~=0.9->selenium) (0.13.0)\n"
     ]
    }
   ],
   "source": [
    "pip install selenium"
   ]
  },
  {
   "cell_type": "code",
   "execution_count": 2,
   "id": "e57c4120",
   "metadata": {},
   "outputs": [
    {
     "name": "stdout",
     "output_type": "stream",
     "text": [
      "Requirement already satisfied: webdriver_manager in c:\\users\\yhy\\anaconda3\\lib\\site-packages (3.5.2)Note: you may need to restart the kernel to use updated packages.\n",
      "Requirement already satisfied: requests in c:\\users\\yhy\\anaconda3\\lib\\site-packages (from webdriver_manager) (2.26.0)\n",
      "Requirement already satisfied: crayons in c:\\users\\yhy\\anaconda3\\lib\\site-packages (from webdriver_manager) (0.4.0)\n",
      "Requirement already satisfied: configparser in c:\\users\\yhy\\anaconda3\\lib\\site-packages (from webdriver_manager) (5.2.0)\n",
      "Requirement already satisfied: colorama in c:\\users\\yhy\\anaconda3\\lib\\site-packages (from crayons->webdriver_manager) (0.4.4)\n",
      "Requirement already satisfied: charset-normalizer~=2.0.0 in c:\\users\\yhy\\anaconda3\\lib\\site-packages (from requests->webdriver_manager) (2.0.4)\n",
      "Requirement already satisfied: idna<4,>=2.5 in c:\\users\\yhy\\anaconda3\\lib\\site-packages (from requests->webdriver_manager) (3.2)\n",
      "Requirement already satisfied: urllib3<1.27,>=1.21.1 in c:\\users\\yhy\\anaconda3\\lib\\site-packages (from requests->webdriver_manager) (1.26.7)\n",
      "Requirement already satisfied: certifi>=2017.4.17 in c:\\users\\yhy\\anaconda3\\lib\\site-packages (from requests->webdriver_manager) (2021.10.8)\n",
      "\n"
     ]
    }
   ],
   "source": [
    "pip install webdriver_manager"
   ]
  },
  {
   "cell_type": "code",
   "execution_count": 3,
   "id": "cc7f7f12",
   "metadata": {},
   "outputs": [
    {
     "name": "stdout",
     "output_type": "stream",
     "text": [
      "Requirement already satisfied: urllib3 in c:\\users\\yhy\\anaconda3\\lib\\site-packages (1.26.7)\n",
      "Note: you may need to restart the kernel to use updated packages.\n"
     ]
    }
   ],
   "source": [
    "pip install urllib3"
   ]
  },
  {
   "cell_type": "code",
   "execution_count": 4,
   "id": "6534ef86",
   "metadata": {},
   "outputs": [
    {
     "name": "stdout",
     "output_type": "stream",
     "text": [
      "Requirement already satisfied: pandas in c:\\users\\yhy\\anaconda3\\lib\\site-packages (1.3.4)\n",
      "Requirement already satisfied: pytz>=2017.3 in c:\\users\\yhy\\anaconda3\\lib\\site-packages (from pandas) (2021.3)\n",
      "Requirement already satisfied: python-dateutil>=2.7.3 in c:\\users\\yhy\\anaconda3\\lib\\site-packages (from pandas) (2.8.2)\n",
      "Requirement already satisfied: numpy>=1.17.3 in c:\\users\\yhy\\anaconda3\\lib\\site-packages (from pandas) (1.20.3)\n",
      "Requirement already satisfied: six>=1.5 in c:\\users\\yhy\\anaconda3\\lib\\site-packages (from python-dateutil>=2.7.3->pandas) (1.16.0)\n",
      "Note: you may need to restart the kernel to use updated packages.\n"
     ]
    }
   ],
   "source": [
    "pip install pandas"
   ]
  },
  {
   "cell_type": "code",
   "execution_count": 5,
   "id": "750b1689",
   "metadata": {},
   "outputs": [
    {
     "name": "stdout",
     "output_type": "stream",
     "text": [
      "Requirement already satisfied: keyboard in c:\\users\\yhy\\anaconda3\\lib\\site-packages (0.13.5)\n",
      "Note: you may need to restart the kernel to use updated packages.\n"
     ]
    }
   ],
   "source": [
    "pip install keyboard"
   ]
  },
  {
   "cell_type": "code",
   "execution_count": 6,
   "id": "aa182bf0",
   "metadata": {},
   "outputs": [],
   "source": [
    "import pandas as pd\n",
    "from selenium import webdriver\n",
    "from selenium.webdriver.chrome.service import Service\n",
    "from webdriver_manager.chrome import ChromeDriverManager\n",
    "from selenium.webdriver.common.by import By\n",
    "import time\n",
    "from selenium.webdriver.chrome.options import Options\n",
    "import keyboard\n",
    "from keyboard import press\n",
    "import json\n",
    "import urllib.parse\n",
    "from selenium.webdriver.support.ui import WebDriverWait\n",
    "from selenium.webdriver.support import expected_conditions as EC"
   ]
  },
  {
   "cell_type": "code",
   "execution_count": null,
   "id": "441008dc",
   "metadata": {},
   "outputs": [],
   "source": [
    "class Reports:\n",
    "    def __init__(self):\n",
    "        self.filtered_result=None\n",
    "        self.output=None\n",
    "        self.raw_data=input('Please input the working directory of your raw data:')\n",
    "        self.minimum_avgR3M=float(input('Please input your desired avg_R3M:'))\n",
    "        self.minimum_no_of_users=int(input('Please input your desired minimun users of each country:'))\n",
    "        self.chrome_options = Options()\n",
    "        self.chrome_options.add_experimental_option(\"debuggerAddress\", \"127.0.0.1:9222\")\n",
    "        self.chrome_driver = ChromeDriverManager().install()  # install directly\n",
    "        self.driver = webdriver.Chrome(self.chrome_driver, chrome_options=self.chrome_options)\n",
    "    def filter_users(self):\n",
    "\n",
    "        df = pd.read_csv(self.raw_data)\n",
    "        df['AvgMonReport_R3M'] = df['AvgMonReport_R3M'].fillna(0)\n",
    "        df.loc[(df['DistributorID'] == 18518), 'filter'] = 'AW direct customer'\n",
    "        df.loc[(df['DistributorID'] == 10425) , 'filter'] = 'TW'\n",
    "        df.loc[(df['Country'] == 'KR'), 'filter'] = 'KR'\n",
    "        df.loc[df['Country'] == 'CN', 'filter'] = 'CN'\n",
    "        df = df.set_index('filter')\n",
    "\n",
    "        direct = df[(df['DistributorID'] == 18518)]\n",
    "        TW = df[(df['DistributorID'] == 10425) & (df['AvgMonReport_R3M'] >= self.minimum_avgR3M)]\n",
    "        KR = df[(df['Country'] == 'KR') & (df['AvgMonReport_R3M'] >= self.minimum_avgR3M)]\n",
    "        CN = df[(df['Country'] == 'CN') & (df['AvgMonReport_R3M'] >= self.minimum_avgR3M)]\n",
    "\n",
    "        groupdict={\n",
    "            'TW':TW,\n",
    "            'CN':CN,\n",
    "            'direct':direct,\n",
    "            'KR':KR\n",
    "        }\n",
    "\n",
    "        for group in groupdict:\n",
    "            if len(groupdict[group])<self.minimum_no_of_users:\n",
    "                if group=='KR' or group=='CN':\n",
    "                    groupdict[group]=df[df['Country']==group].head(self.minimum_no_of_users)\n",
    "                  \n",
    "                elif group=='TW':\n",
    "                    groupdict[group]=df[(df['DistributorID'] == 10425)].head(self.minimum_no_of_users)\n",
    "                elif group=='direct':\n",
    "                    groupdict[group]=df[(df['DistributorID'] == 18518)].head(self.minimum_no_of_users)\n",
    "        self.filtered_result=pd.concat(groupdict.values())\n",
    "        return self.filtered_result\n",
    "\n",
    "    def get_repert_link(self):\n",
    "        df = self.filtered_result\n",
    "        style_for_CN=input('suffix for CN reports:')\n",
    "        style_for_KR=input('suffix for KR reports:')\n",
    "        style_for_TW=input('suffix for TW reports')\n",
    "\n",
    "        KR = df[df['Country'] == 'KR']\n",
    "        TW = df[df['Country'] == 'TW']\n",
    "        CN = df[df['Country'] == 'CN']\n",
    "\n",
    "        list=['KR','TW','CN']\n",
    "        country_web = {\n",
    "            'CN': 'https://datastudio.google.com/u/0/reporting/b9de3989-758e-4c24-920d-c527db9d485c/page/mlqLC',\n",
    "            'KR': 'https://datastudio.google.com/u/0/reporting/b9de3989-758e-4c24-920d-c527db9d485c/page/lSTHC',\n",
    "            'TW': 'https://datastudio.google.com/u/0/reporting/b9de3989-758e-4c24-920d-c527db9d485c/page/f2pLC'\n",
    "        }\n",
    "\n",
    "        KR_priceplan = {\n",
    "            'KR_D_Credit 120': 'Credit 120',\n",
    "            'KR_D_Credit 60': 'Credit 60',\n",
    "            'KR_D_Credit 300': 'Credit 300',\n",
    "            'KR_D_Credit 30': 'Credit 30',\n",
    "            'KR_D_Credit 10': 'Credit 10',\n",
    "        }\n",
    "        TW_priceplan = {\n",
    "            'TW_Credit 600': '600',\n",
    "            'TW_Credit 300': '300',\n",
    "            'TW_Credit 240': '240',\n",
    "            'TW_Credit 120': '120',\n",
    "            'TW_Credit 60': '60',\n",
    "            'TW_Credit 10': '10',\n",
    "            'TW_D_Credit 600': '600',\n",
    "            'TW_D_Credit 300': '300',\n",
    "            'TW_D_Credit 240': '240',\n",
    "            'TW_D_Credit 120': '120',\n",
    "            'TW_D_Credit 60': '60',\n",
    "            'TW_D_Credit 10': '10'\n",
    "        }\n",
    "        CN_priceplan = {\n",
    "            'CN_D_Credit 100': '100',\n",
    "            'CN_D_Credit 16': '注册包 (16)',\n",
    "            'CN_D_Pay-as-you-go': '随收随付（月结）',\n",
    "            'CN_D_Credit 60':'60'\n",
    "        }\n",
    "        parameter_id={\n",
    "            'CN':'df609',\n",
    "            'TW':'df607',\n",
    "            'KR':'df492'\n",
    "        }\n",
    "\n",
    "        url_list = []\n",
    "        file_name = []\n",
    "        for country in list:\n",
    "            output = pd.DataFrame()\n",
    "            for index, data in eval(country).iterrows():\n",
    "                id = data['UserID']\n",
    "                hospitalname = data['UserName']\n",
    "                creditplan = eval(country+'_priceplan')[data['PricePlan']]\n",
    "                string = \"include%EE%80%801%EE%80%80EQ%EE%80%80\" + str(id)\n",
    "\n",
    "                params = {\n",
    "                    parameter_id[country]: string,\n",
    "                    \"ds672.hospital_name_{}\".format(country): hospitalname,\n",
    "                    \"ds125.CreditPlan_{}\".format(country): creditplan\n",
    "                }\n",
    "                json_params = json.dumps(params)\n",
    "                encoded_params = urllib.parse.quote(json_params)\n",
    "                url = country_web[country] + \"?params=\" + encoded_params\n",
    "                url_list.append(url)\n",
    "                file_name.append('[{}]_'.format(hospitalname) + str(eval('style_for_'+country)))\n",
    "  \n",
    "        output['file name'] = file_name\n",
    "        output['url'] = url_list\n",
    "        self.output=output\n",
    "        return output\n",
    "    def download_reports(self):\n",
    "        self.lenght=len(self.output)\n",
    "        self.counter=0\n",
    "        for index,data in self.output.iterrows():\n",
    "            self.driver.get(data['url'])\n",
    "            try:\n",
    "                element = WebDriverWait(self.driver, 50).until(\n",
    "                    EC.element_to_be_clickable((By.XPATH, '//*[@id=\"body\"]/div/div/div[1]/div[2]/div/div[1]/div[1]/div[3]/div/div'))\n",
    "                )\n",
    "            finally:\n",
    "                keyboard.press_and_release('ctrl + p')\n",
    "                time.sleep(3)\n",
    "                keyboard.press_and_release('enter')\n",
    "                time.sleep(3)\n",
    "                keyboard.write(data['file name'])\n",
    "                time.sleep(0.5)\n",
    "                keyboard.press_and_release('enter')\n",
    "                self.counter+=1\n",
    "                print('{a}/{b}'.format(a=self.counter,b=self.lenght))\n",
    "\n",
    "if __name__='__main__':\n",
    "    re=Reports()\n",
    "    data=re.filter_users()\n",
    "    re.get_repert_link()\n",
    "    re.download_reports()\n"
   ]
  }
 ],
 "metadata": {
  "kernelspec": {
   "display_name": "Python 3 (ipykernel)",
   "language": "python",
   "name": "python3"
  },
  "language_info": {
   "codemirror_mode": {
    "name": "ipython",
    "version": 3
   },
   "file_extension": ".py",
   "mimetype": "text/x-python",
   "name": "python",
   "nbconvert_exporter": "python",
   "pygments_lexer": "ipython3",
   "version": "3.9.7"
  }
 },
 "nbformat": 4,
 "nbformat_minor": 5
}
